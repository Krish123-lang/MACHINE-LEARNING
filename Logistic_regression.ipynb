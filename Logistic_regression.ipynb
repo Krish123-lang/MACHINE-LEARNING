{
  "nbformat": 4,
  "nbformat_minor": 0,
  "metadata": {
    "colab": {
      "private_outputs": true,
      "provenance": [],
      "authorship_tag": "ABX9TyO9JyCJBLCB8U6TvyA/5MoO",
      "include_colab_link": true
    },
    "kernelspec": {
      "name": "python3",
      "display_name": "Python 3"
    },
    "language_info": {
      "name": "python"
    }
  },
  "cells": [
    {
      "cell_type": "markdown",
      "metadata": {
        "id": "view-in-github",
        "colab_type": "text"
      },
      "source": [
        "<a href=\"https://colab.research.google.com/github/Krish123-lang/MACHINE-LEARNING/blob/main/Logistic_regression.ipynb\" target=\"_parent\"><img src=\"https://colab.research.google.com/assets/colab-badge.svg\" alt=\"Open In Colab\"/></a>"
      ]
    },
    {
      "cell_type": "code",
      "execution_count": null,
      "metadata": {
        "id": "HX4G8sgn5ZjY"
      },
      "outputs": [],
      "source": [
        "from sklearn import datasets\n",
        "import numpy as np\n",
        "from sklearn.linear_model import LogisticRegression\n",
        "import matplotlib.pyplot as plt"
      ]
    },
    {
      "cell_type": "code",
      "source": [
        "iris = datasets.load_iris()"
      ],
      "metadata": {
        "id": "Tc5QJvhL5nR-"
      },
      "execution_count": null,
      "outputs": []
    },
    {
      "cell_type": "code",
      "source": [
        "# iris.keys()"
      ],
      "metadata": {
        "id": "hs8Rwf826E2V"
      },
      "execution_count": null,
      "outputs": []
    },
    {
      "cell_type": "code",
      "source": [
        "# features = iris.data"
      ],
      "metadata": {
        "id": "D4DXDm4Z5rmS"
      },
      "execution_count": null,
      "outputs": []
    },
    {
      "cell_type": "code",
      "source": [
        "# labels = iris.target"
      ],
      "metadata": {
        "id": "rUh_bHPr5utN"
      },
      "execution_count": null,
      "outputs": []
    },
    {
      "cell_type": "code",
      "source": [
        "# features.shape\n",
        "# labels.shape"
      ],
      "metadata": {
        "id": "vvBN6ch35zGj"
      },
      "execution_count": null,
      "outputs": []
    },
    {
      "cell_type": "code",
      "source": [
        "X = iris['data'][:, 3:]\n",
        "y = (iris['target'] == 2).astype(int)"
      ],
      "metadata": {
        "id": "sP7ikpNf7khZ"
      },
      "execution_count": null,
      "outputs": []
    },
    {
      "cell_type": "markdown",
      "source": [
        "## Train a logistic regression"
      ],
      "metadata": {
        "id": "AYeQXgUx8EpG"
      }
    },
    {
      "cell_type": "code",
      "source": [
        "clf = LogisticRegression()\n",
        "clf.fit(X, y)\n",
        "example = clf.predict([[4.6]])\n",
        "example"
      ],
      "metadata": {
        "id": "kvOojv-I8KA5"
      },
      "execution_count": null,
      "outputs": []
    },
    {
      "cell_type": "code",
      "source": [
        "X_new = np.linspace(0, 3, 1000).reshape(-1, 1)\n",
        "y_prob = clf.predict_proba(X_new)\n",
        "\n",
        "plt.plot(X_new, y_prob[:, 1], \"g-\", label=\"Virginica\")\n",
        "plt.show()"
      ],
      "metadata": {
        "id": "C3OXBZTb91b-"
      },
      "execution_count": null,
      "outputs": []
    }
  ]
}