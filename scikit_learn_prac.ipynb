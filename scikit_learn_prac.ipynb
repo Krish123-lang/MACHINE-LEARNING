{
  "nbformat": 4,
  "nbformat_minor": 0,
  "metadata": {
    "colab": {
      "private_outputs": true,
      "provenance": [],
      "authorship_tag": "ABX9TyNsDty3jTN4uhF/x0+Jv3yJ",
      "include_colab_link": true
    },
    "kernelspec": {
      "name": "python3",
      "display_name": "Python 3"
    },
    "language_info": {
      "name": "python"
    }
  },
  "cells": [
    {
      "cell_type": "markdown",
      "metadata": {
        "id": "view-in-github",
        "colab_type": "text"
      },
      "source": [
        "<a href=\"https://colab.research.google.com/github/Krish123-lang/MACHINE-LEARNING/blob/main/scikit_learn_prac.ipynb\" target=\"_parent\"><img src=\"https://colab.research.google.com/assets/colab-badge.svg\" alt=\"Open In Colab\"/></a>"
      ]
    },
    {
      "cell_type": "code",
      "source": [
        "import numpy as np\n",
        "import pandas as pd\n",
        "import matplotlib.pyplot as plt\n",
        "from sklearn import datasets, linear_model\n",
        "from sklearn.metrics import mean_squared_error"
      ],
      "metadata": {
        "id": "G0RoJyHalL1m"
      },
      "execution_count": null,
      "outputs": []
    },
    {
      "cell_type": "code",
      "source": [
        "diabetes = datasets.load_diabetes()"
      ],
      "metadata": {
        "id": "SnNaEjznRTnK"
      },
      "execution_count": null,
      "outputs": []
    },
    {
      "cell_type": "code",
      "source": [
        "diabetes"
      ],
      "metadata": {
        "id": "gGZBI9B_Twxq"
      },
      "execution_count": null,
      "outputs": []
    },
    {
      "cell_type": "code",
      "source": [
        "# dict_keys(['data', 'target', 'frame', 'DESCR', 'feature_names', 'data_filename', 'target_filename', 'data_module'])\n",
        "diabetes.feature_names"
      ],
      "metadata": {
        "id": "WQlgaHR3RbQq"
      },
      "execution_count": null,
      "outputs": []
    },
    {
      "cell_type": "code",
      "source": [
        "diabetes_X = diabetes.data"
      ],
      "metadata": {
        "id": "iv0lEd8CS004"
      },
      "execution_count": null,
      "outputs": []
    },
    {
      "cell_type": "code",
      "source": [
        "diabetes_X_train = diabetes_X[:-30]"
      ],
      "metadata": {
        "id": "CAFyus9jTD2y"
      },
      "execution_count": null,
      "outputs": []
    },
    {
      "cell_type": "code",
      "source": [
        "diabetes_X_train.shape"
      ],
      "metadata": {
        "id": "5UNE6LFtTouH"
      },
      "execution_count": null,
      "outputs": []
    },
    {
      "cell_type": "code",
      "source": [
        "diabetes_X_test =  diabetes_X[-30:]"
      ],
      "metadata": {
        "id": "J25YK7xNTWuu"
      },
      "execution_count": null,
      "outputs": []
    },
    {
      "cell_type": "code",
      "source": [
        "diabetes_X_test.shape"
      ],
      "metadata": {
        "id": "WODEyvEbTirC"
      },
      "execution_count": null,
      "outputs": []
    },
    {
      "cell_type": "code",
      "source": [
        "diabetes_y_train = diabetes.target[:-30]\n",
        "diabetes_y_test =  diabetes.target[-30:]"
      ],
      "metadata": {
        "id": "XdXHuaFVUCcG"
      },
      "execution_count": null,
      "outputs": []
    },
    {
      "cell_type": "code",
      "source": [
        "diabetes_y_train.shape"
      ],
      "metadata": {
        "id": "-vgQBz8MUQey"
      },
      "execution_count": null,
      "outputs": []
    },
    {
      "cell_type": "code",
      "source": [
        "diabetes_y_test.shape"
      ],
      "metadata": {
        "id": "DSV90PPkUWPt"
      },
      "execution_count": null,
      "outputs": []
    },
    {
      "cell_type": "code",
      "source": [
        "model = linear_model.LinearRegression()"
      ],
      "metadata": {
        "id": "Bu0-5qLCUZiO"
      },
      "execution_count": null,
      "outputs": []
    },
    {
      "cell_type": "code",
      "source": [
        "model.fit(diabetes_X_train, diabetes_y_train)"
      ],
      "metadata": {
        "id": "KMQXjKarVe3a"
      },
      "execution_count": null,
      "outputs": []
    },
    {
      "cell_type": "code",
      "source": [
        "diabetes_y_predicted = model.predict(diabetes_X_test)"
      ],
      "metadata": {
        "id": "zSu-FZq8XFAT"
      },
      "execution_count": null,
      "outputs": []
    },
    {
      "cell_type": "code",
      "source": [
        "mean_squared_error(diabetes_y_test, diabetes_y_predicted)"
      ],
      "metadata": {
        "id": "SlmiFNh6XQpe"
      },
      "execution_count": null,
      "outputs": []
    },
    {
      "cell_type": "code",
      "source": [
        "print(f\"Weights: {model.coef_} \")\n",
        "print(f\"Intercepts: {model.intercept_} \")"
      ],
      "metadata": {
        "id": "gTLyvYfaYuM2"
      },
      "execution_count": null,
      "outputs": []
    },
    {
      "cell_type": "code",
      "source": [
        "# plt.scatter(diabetes_X_test, diabetes_y_test)\n",
        "# plt.plot(diabetes_X_test, diabetes_y_predicted)\n",
        "# plt.xlabel('X-axis')\n",
        "# plt.ylabel('Y-axis')\n",
        "# plt.show()"
      ],
      "metadata": {
        "id": "sUsfBFpUZUwE"
      },
      "execution_count": null,
      "outputs": []
    }
  ]
}